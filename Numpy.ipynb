{
 "cells": [
  {
   "cell_type": "code",
   "execution_count": 96,
   "id": "d4b523d8-aeb5-4a09-a4c9-b3b1bc03786a",
   "metadata": {},
   "outputs": [],
   "source": [
    "import numpy as np \n",
    "arr = np.array([1,2,3,4,5,6,7,8,9,10,11,12])"
   ]
  },
  {
   "cell_type": "code",
   "execution_count": 97,
   "id": "4a1cbb56-8e94-434e-8c9b-8a00e1d7e2d3",
   "metadata": {},
   "outputs": [
    {
     "data": {
      "text/plain": [
       "array([[ 1,  2,  3,  4],\n",
       "       [ 5,  6,  7,  8],\n",
       "       [ 9, 10, 11, 12]])"
      ]
     },
     "execution_count": 97,
     "metadata": {},
     "output_type": "execute_result"
    }
   ],
   "source": [
    "reshaped = arr.reshape(3,4)\n",
    "reshaped"
   ]
  },
  {
   "cell_type": "code",
   "execution_count": 98,
   "id": "c030a208-e3ad-4469-b070-638f1ae5fb26",
   "metadata": {},
   "outputs": [
    {
     "data": {
      "text/plain": [
       "array([ 1,  2,  3,  4,  5,  6,  7,  8,  9, 10, 11, 12])"
      ]
     },
     "execution_count": 98,
     "metadata": {},
     "output_type": "execute_result"
    }
   ],
   "source": [
    "flattened = reshaped.flatten()\n",
    "flattened "
   ]
  },
  {
   "cell_type": "code",
   "execution_count": 99,
   "id": "d5c31aa0-352e-4c3c-8089-961954f86313",
   "metadata": {},
   "outputs": [
    {
     "data": {
      "text/plain": [
       "array([ 1, 20,  3,  4,  5,  6,  7,  8,  9, 10, 11, 12])"
      ]
     },
     "execution_count": 99,
     "metadata": {},
     "output_type": "execute_result"
    }
   ],
   "source": [
    "revel =reshaped.ravel()\n",
    "revel[1]=20\n",
    "revel"
   ]
  },
  {
   "cell_type": "code",
   "execution_count": 100,
   "id": "36fe93bf-c7a0-462e-98a8-c13625b7432f",
   "metadata": {},
   "outputs": [
    {
     "data": {
      "text/plain": [
       "array([[ 1, 20,  3,  4],\n",
       "       [ 5,  6,  7,  8],\n",
       "       [ 9, 10, 11, 12]])"
      ]
     },
     "execution_count": 100,
     "metadata": {},
     "output_type": "execute_result"
    }
   ],
   "source": [
    "reshaped"
   ]
  },
  {
   "cell_type": "code",
   "execution_count": 101,
   "id": "e81a3606-2eeb-421e-aea5-bbeefcaea646",
   "metadata": {},
   "outputs": [
    {
     "name": "stdout",
     "output_type": "stream",
     "text": [
      "[1 2 3]\n",
      "[1 2 3]\n"
     ]
    }
   ],
   "source": [
    "arr1=np.array([1,2,3])\n",
    "print(arr1)\n",
    "arr2=np.array([1,2,3])\n",
    "print(arr2)"
   ]
  },
  {
   "cell_type": "code",
   "execution_count": 102,
   "id": "0a330805-2876-478b-91ca-763d56c117ca",
   "metadata": {},
   "outputs": [
    {
     "data": {
      "text/plain": [
       "array([2, 4, 6])"
      ]
     },
     "execution_count": 102,
     "metadata": {},
     "output_type": "execute_result"
    }
   ],
   "source": [
    "arr1+arr2"
   ]
  },
  {
   "cell_type": "code",
   "execution_count": 103,
   "id": "59f6a22c-e0af-43ac-8636-4477be9ca463",
   "metadata": {},
   "outputs": [
    {
     "data": {
      "text/plain": [
       "array([5, 6, 7])"
      ]
     },
     "execution_count": 103,
     "metadata": {},
     "output_type": "execute_result"
    }
   ],
   "source": [
    "arr1+4"
   ]
  },
  {
   "cell_type": "code",
   "execution_count": 104,
   "id": "a6818588-de4d-4d2e-bf3a-af23ed5efe93",
   "metadata": {},
   "outputs": [
    {
     "name": "stdout",
     "output_type": "stream",
     "text": [
      "[1 2 3]\n",
      "[[1]\n",
      " [2]\n",
      " [3]]\n"
     ]
    }
   ],
   "source": [
    "arr1=np.array([1,2,3])\n",
    "print(arr1)\n",
    "arr2=np.array([[1],[2],[3]])\n",
    "print(arr2)"
   ]
  },
  {
   "cell_type": "code",
   "execution_count": 105,
   "id": "b18adada-114d-44cb-ae88-d170d65b8148",
   "metadata": {},
   "outputs": [],
   "source": [
    "import numpy as np\n",
    "import pandas as pd"
   ]
  },
  {
   "cell_type": "code",
   "execution_count": 106,
   "id": "e9853ac1",
   "metadata": {},
   "outputs": [
    {
     "data": {
      "text/plain": [
       "['Apt_1)',\n",
       " 'Apt_2)',\n",
       " 'Apt_3)',\n",
       " 'Apt_4)',\n",
       " 'Apt_5)',\n",
       " 'Apt_6)',\n",
       " 'Apt_7)',\n",
       " 'Apt_8)',\n",
       " 'Apt_9)',\n",
       " 'Apt_10)',\n",
       " 'Apt_11)',\n",
       " 'Apt_12)',\n",
       " 'Apt_13)',\n",
       " 'Apt_14)',\n",
       " 'Apt_15)',\n",
       " 'Apt_16)',\n",
       " 'Apt_17)',\n",
       " 'Apt_18)',\n",
       " 'Apt_19)',\n",
       " 'Apt_20)']"
      ]
     },
     "execution_count": 106,
     "metadata": {},
     "output_type": "execute_result"
    }
   ],
   "source": [
    "np.random.seed(42)\n",
    "apartments=[f\"Apt_{i})\" for i in range (1,21)]\n",
    "apartments"
   ]
  },
  {
   "cell_type": "code",
   "execution_count": 107,
   "id": "e5aab183",
   "metadata": {},
   "outputs": [],
   "source": [
    "datas=pd.date_range(start=\"2021-07-01\",periods=10,freq=\"D\")"
   ]
  },
  {
   "cell_type": "code",
   "execution_count": 108,
   "id": "d5d076e5",
   "metadata": {},
   "outputs": [
    {
     "data": {
      "text/plain": [
       "DatetimeIndex(['2021-07-01', '2021-07-02', '2021-07-03', '2021-07-04',\n",
       "               '2021-07-05', '2021-07-06', '2021-07-07', '2021-07-08',\n",
       "               '2021-07-09', '2021-07-10'],\n",
       "              dtype='datetime64[ns]', freq='D')"
      ]
     },
     "execution_count": 108,
     "metadata": {},
     "output_type": "execute_result"
    }
   ],
   "source": [
    "datas"
   ]
  },
  {
   "cell_type": "code",
   "execution_count": 109,
   "id": "20e68428",
   "metadata": {},
   "outputs": [
    {
     "data": {
      "text/plain": [
       "{'date': array(['2021-07-01T00:00:00.000000000', '2021-07-02T00:00:00.000000000',\n",
       "        '2021-07-03T00:00:00.000000000', '2021-07-04T00:00:00.000000000',\n",
       "        '2021-07-05T00:00:00.000000000', '2021-07-06T00:00:00.000000000',\n",
       "        '2021-07-07T00:00:00.000000000', '2021-07-08T00:00:00.000000000',\n",
       "        '2021-07-09T00:00:00.000000000', '2021-07-10T00:00:00.000000000',\n",
       "        '2021-07-01T00:00:00.000000000', '2021-07-02T00:00:00.000000000',\n",
       "        '2021-07-03T00:00:00.000000000', '2021-07-04T00:00:00.000000000',\n",
       "        '2021-07-05T00:00:00.000000000', '2021-07-06T00:00:00.000000000',\n",
       "        '2021-07-07T00:00:00.000000000', '2021-07-08T00:00:00.000000000',\n",
       "        '2021-07-09T00:00:00.000000000', '2021-07-10T00:00:00.000000000',\n",
       "        '2021-07-01T00:00:00.000000000', '2021-07-02T00:00:00.000000000',\n",
       "        '2021-07-03T00:00:00.000000000', '2021-07-04T00:00:00.000000000',\n",
       "        '2021-07-05T00:00:00.000000000', '2021-07-06T00:00:00.000000000',\n",
       "        '2021-07-07T00:00:00.000000000', '2021-07-08T00:00:00.000000000',\n",
       "        '2021-07-09T00:00:00.000000000', '2021-07-10T00:00:00.000000000',\n",
       "        '2021-07-01T00:00:00.000000000', '2021-07-02T00:00:00.000000000',\n",
       "        '2021-07-03T00:00:00.000000000', '2021-07-04T00:00:00.000000000',\n",
       "        '2021-07-05T00:00:00.000000000', '2021-07-06T00:00:00.000000000',\n",
       "        '2021-07-07T00:00:00.000000000', '2021-07-08T00:00:00.000000000',\n",
       "        '2021-07-09T00:00:00.000000000', '2021-07-10T00:00:00.000000000',\n",
       "        '2021-07-01T00:00:00.000000000', '2021-07-02T00:00:00.000000000',\n",
       "        '2021-07-03T00:00:00.000000000', '2021-07-04T00:00:00.000000000',\n",
       "        '2021-07-05T00:00:00.000000000', '2021-07-06T00:00:00.000000000',\n",
       "        '2021-07-07T00:00:00.000000000', '2021-07-08T00:00:00.000000000',\n",
       "        '2021-07-09T00:00:00.000000000', '2021-07-10T00:00:00.000000000',\n",
       "        '2021-07-01T00:00:00.000000000', '2021-07-02T00:00:00.000000000',\n",
       "        '2021-07-03T00:00:00.000000000', '2021-07-04T00:00:00.000000000',\n",
       "        '2021-07-05T00:00:00.000000000', '2021-07-06T00:00:00.000000000',\n",
       "        '2021-07-07T00:00:00.000000000', '2021-07-08T00:00:00.000000000',\n",
       "        '2021-07-09T00:00:00.000000000', '2021-07-10T00:00:00.000000000',\n",
       "        '2021-07-01T00:00:00.000000000', '2021-07-02T00:00:00.000000000',\n",
       "        '2021-07-03T00:00:00.000000000', '2021-07-04T00:00:00.000000000',\n",
       "        '2021-07-05T00:00:00.000000000', '2021-07-06T00:00:00.000000000',\n",
       "        '2021-07-07T00:00:00.000000000', '2021-07-08T00:00:00.000000000',\n",
       "        '2021-07-09T00:00:00.000000000', '2021-07-10T00:00:00.000000000',\n",
       "        '2021-07-01T00:00:00.000000000', '2021-07-02T00:00:00.000000000',\n",
       "        '2021-07-03T00:00:00.000000000', '2021-07-04T00:00:00.000000000',\n",
       "        '2021-07-05T00:00:00.000000000', '2021-07-06T00:00:00.000000000',\n",
       "        '2021-07-07T00:00:00.000000000', '2021-07-08T00:00:00.000000000',\n",
       "        '2021-07-09T00:00:00.000000000', '2021-07-10T00:00:00.000000000',\n",
       "        '2021-07-01T00:00:00.000000000', '2021-07-02T00:00:00.000000000',\n",
       "        '2021-07-03T00:00:00.000000000', '2021-07-04T00:00:00.000000000',\n",
       "        '2021-07-05T00:00:00.000000000', '2021-07-06T00:00:00.000000000',\n",
       "        '2021-07-07T00:00:00.000000000', '2021-07-08T00:00:00.000000000',\n",
       "        '2021-07-09T00:00:00.000000000', '2021-07-10T00:00:00.000000000',\n",
       "        '2021-07-01T00:00:00.000000000', '2021-07-02T00:00:00.000000000',\n",
       "        '2021-07-03T00:00:00.000000000', '2021-07-04T00:00:00.000000000',\n",
       "        '2021-07-05T00:00:00.000000000', '2021-07-06T00:00:00.000000000',\n",
       "        '2021-07-07T00:00:00.000000000', '2021-07-08T00:00:00.000000000',\n",
       "        '2021-07-09T00:00:00.000000000', '2021-07-10T00:00:00.000000000',\n",
       "        '2021-07-01T00:00:00.000000000', '2021-07-02T00:00:00.000000000',\n",
       "        '2021-07-03T00:00:00.000000000', '2021-07-04T00:00:00.000000000',\n",
       "        '2021-07-05T00:00:00.000000000', '2021-07-06T00:00:00.000000000',\n",
       "        '2021-07-07T00:00:00.000000000', '2021-07-08T00:00:00.000000000',\n",
       "        '2021-07-09T00:00:00.000000000', '2021-07-10T00:00:00.000000000',\n",
       "        '2021-07-01T00:00:00.000000000', '2021-07-02T00:00:00.000000000',\n",
       "        '2021-07-03T00:00:00.000000000', '2021-07-04T00:00:00.000000000',\n",
       "        '2021-07-05T00:00:00.000000000', '2021-07-06T00:00:00.000000000',\n",
       "        '2021-07-07T00:00:00.000000000', '2021-07-08T00:00:00.000000000',\n",
       "        '2021-07-09T00:00:00.000000000', '2021-07-10T00:00:00.000000000',\n",
       "        '2021-07-01T00:00:00.000000000', '2021-07-02T00:00:00.000000000',\n",
       "        '2021-07-03T00:00:00.000000000', '2021-07-04T00:00:00.000000000',\n",
       "        '2021-07-05T00:00:00.000000000', '2021-07-06T00:00:00.000000000',\n",
       "        '2021-07-07T00:00:00.000000000', '2021-07-08T00:00:00.000000000',\n",
       "        '2021-07-09T00:00:00.000000000', '2021-07-10T00:00:00.000000000',\n",
       "        '2021-07-01T00:00:00.000000000', '2021-07-02T00:00:00.000000000',\n",
       "        '2021-07-03T00:00:00.000000000', '2021-07-04T00:00:00.000000000',\n",
       "        '2021-07-05T00:00:00.000000000', '2021-07-06T00:00:00.000000000',\n",
       "        '2021-07-07T00:00:00.000000000', '2021-07-08T00:00:00.000000000',\n",
       "        '2021-07-09T00:00:00.000000000', '2021-07-10T00:00:00.000000000',\n",
       "        '2021-07-01T00:00:00.000000000', '2021-07-02T00:00:00.000000000',\n",
       "        '2021-07-03T00:00:00.000000000', '2021-07-04T00:00:00.000000000',\n",
       "        '2021-07-05T00:00:00.000000000', '2021-07-06T00:00:00.000000000',\n",
       "        '2021-07-07T00:00:00.000000000', '2021-07-08T00:00:00.000000000',\n",
       "        '2021-07-09T00:00:00.000000000', '2021-07-10T00:00:00.000000000',\n",
       "        '2021-07-01T00:00:00.000000000', '2021-07-02T00:00:00.000000000',\n",
       "        '2021-07-03T00:00:00.000000000', '2021-07-04T00:00:00.000000000',\n",
       "        '2021-07-05T00:00:00.000000000', '2021-07-06T00:00:00.000000000',\n",
       "        '2021-07-07T00:00:00.000000000', '2021-07-08T00:00:00.000000000',\n",
       "        '2021-07-09T00:00:00.000000000', '2021-07-10T00:00:00.000000000',\n",
       "        '2021-07-01T00:00:00.000000000', '2021-07-02T00:00:00.000000000',\n",
       "        '2021-07-03T00:00:00.000000000', '2021-07-04T00:00:00.000000000',\n",
       "        '2021-07-05T00:00:00.000000000', '2021-07-06T00:00:00.000000000',\n",
       "        '2021-07-07T00:00:00.000000000', '2021-07-08T00:00:00.000000000',\n",
       "        '2021-07-09T00:00:00.000000000', '2021-07-10T00:00:00.000000000',\n",
       "        '2021-07-01T00:00:00.000000000', '2021-07-02T00:00:00.000000000',\n",
       "        '2021-07-03T00:00:00.000000000', '2021-07-04T00:00:00.000000000',\n",
       "        '2021-07-05T00:00:00.000000000', '2021-07-06T00:00:00.000000000',\n",
       "        '2021-07-07T00:00:00.000000000', '2021-07-08T00:00:00.000000000',\n",
       "        '2021-07-09T00:00:00.000000000', '2021-07-10T00:00:00.000000000',\n",
       "        '2021-07-01T00:00:00.000000000', '2021-07-02T00:00:00.000000000',\n",
       "        '2021-07-03T00:00:00.000000000', '2021-07-04T00:00:00.000000000',\n",
       "        '2021-07-05T00:00:00.000000000', '2021-07-06T00:00:00.000000000',\n",
       "        '2021-07-07T00:00:00.000000000', '2021-07-08T00:00:00.000000000',\n",
       "        '2021-07-09T00:00:00.000000000', '2021-07-10T00:00:00.000000000',\n",
       "        '2021-07-01T00:00:00.000000000', '2021-07-02T00:00:00.000000000',\n",
       "        '2021-07-03T00:00:00.000000000', '2021-07-04T00:00:00.000000000',\n",
       "        '2021-07-05T00:00:00.000000000', '2021-07-06T00:00:00.000000000',\n",
       "        '2021-07-07T00:00:00.000000000', '2021-07-08T00:00:00.000000000',\n",
       "        '2021-07-09T00:00:00.000000000', '2021-07-10T00:00:00.000000000'],\n",
       "       dtype='datetime64[ns]'),\n",
       " 'apartments': array(['Apt_1)', 'Apt_1)', 'Apt_1)', 'Apt_1)', 'Apt_1)', 'Apt_1)',\n",
       "        'Apt_1)', 'Apt_1)', 'Apt_1)', 'Apt_1)', 'Apt_2)', 'Apt_2)',\n",
       "        'Apt_2)', 'Apt_2)', 'Apt_2)', 'Apt_2)', 'Apt_2)', 'Apt_2)',\n",
       "        'Apt_2)', 'Apt_2)', 'Apt_3)', 'Apt_3)', 'Apt_3)', 'Apt_3)',\n",
       "        'Apt_3)', 'Apt_3)', 'Apt_3)', 'Apt_3)', 'Apt_3)', 'Apt_3)',\n",
       "        'Apt_4)', 'Apt_4)', 'Apt_4)', 'Apt_4)', 'Apt_4)', 'Apt_4)',\n",
       "        'Apt_4)', 'Apt_4)', 'Apt_4)', 'Apt_4)', 'Apt_5)', 'Apt_5)',\n",
       "        'Apt_5)', 'Apt_5)', 'Apt_5)', 'Apt_5)', 'Apt_5)', 'Apt_5)',\n",
       "        'Apt_5)', 'Apt_5)', 'Apt_6)', 'Apt_6)', 'Apt_6)', 'Apt_6)',\n",
       "        'Apt_6)', 'Apt_6)', 'Apt_6)', 'Apt_6)', 'Apt_6)', 'Apt_6)',\n",
       "        'Apt_7)', 'Apt_7)', 'Apt_7)', 'Apt_7)', 'Apt_7)', 'Apt_7)',\n",
       "        'Apt_7)', 'Apt_7)', 'Apt_7)', 'Apt_7)', 'Apt_8)', 'Apt_8)',\n",
       "        'Apt_8)', 'Apt_8)', 'Apt_8)', 'Apt_8)', 'Apt_8)', 'Apt_8)',\n",
       "        'Apt_8)', 'Apt_8)', 'Apt_9)', 'Apt_9)', 'Apt_9)', 'Apt_9)',\n",
       "        'Apt_9)', 'Apt_9)', 'Apt_9)', 'Apt_9)', 'Apt_9)', 'Apt_9)',\n",
       "        'Apt_10)', 'Apt_10)', 'Apt_10)', 'Apt_10)', 'Apt_10)', 'Apt_10)',\n",
       "        'Apt_10)', 'Apt_10)', 'Apt_10)', 'Apt_10)', 'Apt_11)', 'Apt_11)',\n",
       "        'Apt_11)', 'Apt_11)', 'Apt_11)', 'Apt_11)', 'Apt_11)', 'Apt_11)',\n",
       "        'Apt_11)', 'Apt_11)', 'Apt_12)', 'Apt_12)', 'Apt_12)', 'Apt_12)',\n",
       "        'Apt_12)', 'Apt_12)', 'Apt_12)', 'Apt_12)', 'Apt_12)', 'Apt_12)',\n",
       "        'Apt_13)', 'Apt_13)', 'Apt_13)', 'Apt_13)', 'Apt_13)', 'Apt_13)',\n",
       "        'Apt_13)', 'Apt_13)', 'Apt_13)', 'Apt_13)', 'Apt_14)', 'Apt_14)',\n",
       "        'Apt_14)', 'Apt_14)', 'Apt_14)', 'Apt_14)', 'Apt_14)', 'Apt_14)',\n",
       "        'Apt_14)', 'Apt_14)', 'Apt_15)', 'Apt_15)', 'Apt_15)', 'Apt_15)',\n",
       "        'Apt_15)', 'Apt_15)', 'Apt_15)', 'Apt_15)', 'Apt_15)', 'Apt_15)',\n",
       "        'Apt_16)', 'Apt_16)', 'Apt_16)', 'Apt_16)', 'Apt_16)', 'Apt_16)',\n",
       "        'Apt_16)', 'Apt_16)', 'Apt_16)', 'Apt_16)', 'Apt_17)', 'Apt_17)',\n",
       "        'Apt_17)', 'Apt_17)', 'Apt_17)', 'Apt_17)', 'Apt_17)', 'Apt_17)',\n",
       "        'Apt_17)', 'Apt_17)', 'Apt_18)', 'Apt_18)', 'Apt_18)', 'Apt_18)',\n",
       "        'Apt_18)', 'Apt_18)', 'Apt_18)', 'Apt_18)', 'Apt_18)', 'Apt_18)',\n",
       "        'Apt_19)', 'Apt_19)', 'Apt_19)', 'Apt_19)', 'Apt_19)', 'Apt_19)',\n",
       "        'Apt_19)', 'Apt_19)', 'Apt_19)', 'Apt_19)', 'Apt_20)', 'Apt_20)',\n",
       "        'Apt_20)', 'Apt_20)', 'Apt_20)', 'Apt_20)', 'Apt_20)', 'Apt_20)',\n",
       "        'Apt_20)', 'Apt_20)'], dtype='<U7'),\n",
       " 'Electricity_usage': array([22.48357077, 19.30867849, 23.23844269, 27.61514928, 18.82923313,\n",
       "        18.82931522, 27.89606408, 23.83717365, 17.65262807, 22.71280022,\n",
       "        17.68291154, 17.67135123, 21.20981136, 10.43359878, 11.37541084,\n",
       "        17.18856235, 14.9358444 , 21.57123666, 15.45987962, 12.93848149,\n",
       "        27.32824384, 18.8711185 , 20.33764102, 12.87625907, 17.27808638,\n",
       "        20.55461295, 14.24503211, 21.87849009, 16.99680655, 18.54153125,\n",
       "        16.99146694, 29.26139092, 19.93251388, 14.71144536, 24.11272456,\n",
       "        13.89578175, 21.04431798, 10.20164938, 13.35906976, 20.98430618,\n",
       "        23.6923329 , 20.85684141, 19.42175859, 18.49448152, 12.60739005,\n",
       "        16.40077896, 17.69680615, 25.28561113, 21.71809145, 11.18479922,\n",
       "        21.62041985, 18.0745886 , 16.61539   , 23.05838144, 25.15499761,\n",
       "        24.6564006 , 15.80391238, 18.45393812, 21.65631716, 24.87772564,\n",
       "        17.60412881, 19.07170512, 14.46832513, 14.01896688, 24.06262911,\n",
       "        26.78120014, 19.63994939, 25.01766449, 21.80818013, 16.77440123,\n",
       "        21.80697803, 27.69018283, 19.8208698 , 27.82321828,  6.90127448,\n",
       "        24.10951252, 20.43523534, 18.50496325, 20.45880388, 10.06215543,\n",
       "        18.90164056, 21.78556286, 27.38947022, 17.40864891, 15.95753199,\n",
       "        17.49121478, 24.57701059, 21.64375555, 17.35119898, 22.56633717,\n",
       "        20.48538775, 24.84322495, 16.48973453, 18.36168927, 18.03945923,\n",
       "        12.68242526, 21.48060139, 21.30527636, 20.02556728, 18.82706433,\n",
       "        12.92314629, 17.89677339, 18.28642742, 15.98861365, 19.19357144,\n",
       "        22.02025428, 29.43092951, 20.87288906, 21.28775195, 19.62777042,\n",
       "        10.40614392, 19.86743062, 20.30115105, 32.31621056, 19.03819518,\n",
       "        21.50773671, 19.82644115, 14.15660981, 25.71411407, 23.75966516,\n",
       "        23.95515974, 15.45306273, 27.01397155, 12.99074469, 22.93428547,\n",
       "        30.95227813, 15.04731837, 17.16851135, 20.49825683, 17.48262173,\n",
       "        12.24668284, 20.34281487, 14.68848143, 22.36796215, 15.40287883,\n",
       "        27.74967203, 16.08373354, 18.38969242, 24.06758609, 13.84567842,\n",
       "        21.13729967, 26.53571377, 11.96258383, 20.92316929, 21.29941397,\n",
       "        23.90911436, 13.81524645, 13.39771693, 22.60970783, 21.48492337,\n",
       "        21.25246425, 21.73224105, 16.59987639, 21.16126849, 21.46536237,\n",
       "        16.42824291, 29.32887256, 22.3691646 , 14.04348251, 23.28276804,\n",
       "        15.12659165, 23.93542302, 25.7929779 , 15.89658841, 24.81688065,\n",
       "        22.06390463, 24.1103008 , 29.48396491, 18.77305942, 16.23131918,\n",
       "        15.55242785, 15.92094858, 19.61449145, 21.70575987, 21.383454  ,\n",
       "        24.13591625, 20.06500946, 27.26767039, 18.67671583, 33.60084583,\n",
       "        23.12833674, 15.71421222, 14.64553751, 22.41236208, 18.88268607,\n",
       "        23.57000247, 22.36618812, 19.63585544, 15.76603141, 12.42576388,\n",
       "        17.76742524, 24.28199397, 21.07046872, 13.77130611, 20.86590463,\n",
       "        21.9265869 , 15.58071282, 20.76862553, 20.29104359, 14.28514851])}"
      ]
     },
     "execution_count": 109,
     "metadata": {},
     "output_type": "execute_result"
    }
   ],
   "source": [
    "data={\n",
    "    \"date\":np.tile(datas,len(apartments)),\n",
    "    \"apartments\":np.repeat(apartments,len(datas)),\n",
    "    \"Electricity_usage\":np.random.normal(loc=20,scale=5,size=len(datas)*len(apartments))\n",
    "}\n",
    "data"
   ]
  },
  {
   "cell_type": "code",
   "execution_count": 110,
   "id": "cb1ad00a",
   "metadata": {},
   "outputs": [
    {
     "data": {
      "text/html": [
       "<div>\n",
       "<style scoped>\n",
       "    .dataframe tbody tr th:only-of-type {\n",
       "        vertical-align: middle;\n",
       "    }\n",
       "\n",
       "    .dataframe tbody tr th {\n",
       "        vertical-align: top;\n",
       "    }\n",
       "\n",
       "    .dataframe thead th {\n",
       "        text-align: right;\n",
       "    }\n",
       "</style>\n",
       "<table border=\"1\" class=\"dataframe\">\n",
       "  <thead>\n",
       "    <tr style=\"text-align: right;\">\n",
       "      <th></th>\n",
       "      <th>date</th>\n",
       "      <th>apartments</th>\n",
       "      <th>Electricity_usage</th>\n",
       "    </tr>\n",
       "  </thead>\n",
       "  <tbody>\n",
       "    <tr>\n",
       "      <th>0</th>\n",
       "      <td>2021-07-01</td>\n",
       "      <td>Apt_1)</td>\n",
       "      <td>22.483571</td>\n",
       "    </tr>\n",
       "    <tr>\n",
       "      <th>1</th>\n",
       "      <td>2021-07-02</td>\n",
       "      <td>Apt_1)</td>\n",
       "      <td>19.308678</td>\n",
       "    </tr>\n",
       "    <tr>\n",
       "      <th>2</th>\n",
       "      <td>2021-07-03</td>\n",
       "      <td>Apt_1)</td>\n",
       "      <td>23.238443</td>\n",
       "    </tr>\n",
       "    <tr>\n",
       "      <th>3</th>\n",
       "      <td>2021-07-04</td>\n",
       "      <td>Apt_1)</td>\n",
       "      <td>27.615149</td>\n",
       "    </tr>\n",
       "    <tr>\n",
       "      <th>4</th>\n",
       "      <td>2021-07-05</td>\n",
       "      <td>Apt_1)</td>\n",
       "      <td>18.829233</td>\n",
       "    </tr>\n",
       "    <tr>\n",
       "      <th>...</th>\n",
       "      <td>...</td>\n",
       "      <td>...</td>\n",
       "      <td>...</td>\n",
       "    </tr>\n",
       "    <tr>\n",
       "      <th>195</th>\n",
       "      <td>2021-07-06</td>\n",
       "      <td>Apt_20)</td>\n",
       "      <td>21.926587</td>\n",
       "    </tr>\n",
       "    <tr>\n",
       "      <th>196</th>\n",
       "      <td>2021-07-07</td>\n",
       "      <td>Apt_20)</td>\n",
       "      <td>15.580713</td>\n",
       "    </tr>\n",
       "    <tr>\n",
       "      <th>197</th>\n",
       "      <td>2021-07-08</td>\n",
       "      <td>Apt_20)</td>\n",
       "      <td>20.768626</td>\n",
       "    </tr>\n",
       "    <tr>\n",
       "      <th>198</th>\n",
       "      <td>2021-07-09</td>\n",
       "      <td>Apt_20)</td>\n",
       "      <td>20.291044</td>\n",
       "    </tr>\n",
       "    <tr>\n",
       "      <th>199</th>\n",
       "      <td>2021-07-10</td>\n",
       "      <td>Apt_20)</td>\n",
       "      <td>14.285149</td>\n",
       "    </tr>\n",
       "  </tbody>\n",
       "</table>\n",
       "<p>200 rows × 3 columns</p>\n",
       "</div>"
      ],
      "text/plain": [
       "          date apartments  Electricity_usage\n",
       "0   2021-07-01     Apt_1)          22.483571\n",
       "1   2021-07-02     Apt_1)          19.308678\n",
       "2   2021-07-03     Apt_1)          23.238443\n",
       "3   2021-07-04     Apt_1)          27.615149\n",
       "4   2021-07-05     Apt_1)          18.829233\n",
       "..         ...        ...                ...\n",
       "195 2021-07-06    Apt_20)          21.926587\n",
       "196 2021-07-07    Apt_20)          15.580713\n",
       "197 2021-07-08    Apt_20)          20.768626\n",
       "198 2021-07-09    Apt_20)          20.291044\n",
       "199 2021-07-10    Apt_20)          14.285149\n",
       "\n",
       "[200 rows x 3 columns]"
      ]
     },
     "execution_count": 110,
     "metadata": {},
     "output_type": "execute_result"
    }
   ],
   "source": [
    "df=pd.DataFrame(data)\n",
    "df"
   ]
  },
  {
   "cell_type": "code",
   "execution_count": 111,
   "id": "044f98e8",
   "metadata": {},
   "outputs": [
    {
     "name": "stdout",
     "output_type": "stream",
     "text": [
      "<bound method NDFrame.describe of           date apartments  Electricity_usage\n",
      "0   2021-07-01     Apt_1)          22.483571\n",
      "1   2021-07-02     Apt_1)          19.308678\n",
      "2   2021-07-03     Apt_1)          23.238443\n",
      "3   2021-07-04     Apt_1)          27.615149\n",
      "4   2021-07-05     Apt_1)          18.829233\n",
      "..         ...        ...                ...\n",
      "195 2021-07-06    Apt_20)          21.926587\n",
      "196 2021-07-07    Apt_20)          15.580713\n",
      "197 2021-07-08    Apt_20)          20.768626\n",
      "198 2021-07-09    Apt_20)          20.291044\n",
      "199 2021-07-10    Apt_20)          14.285149\n",
      "\n",
      "[200 rows x 3 columns]>\n"
     ]
    }
   ],
   "source": [
    "print(df.describe)"
   ]
  },
  {
   "cell_type": "code",
   "execution_count": 112,
   "id": "bc9eb28a",
   "metadata": {},
   "outputs": [
    {
     "name": "stdout",
     "output_type": "stream",
     "text": [
      "date                 datetime64[ns]\n",
      "apartments                   object\n",
      "Electricity_usage           float64\n",
      "dtype: object\n"
     ]
    }
   ],
   "source": [
    "print(df.dtypes)"
   ]
  },
  {
   "cell_type": "code",
   "execution_count": 114,
   "id": "9fe6251b",
   "metadata": {},
   "outputs": [
    {
     "name": "stdout",
     "output_type": "stream",
     "text": [
      "apartments\n",
      "Apt_1)     222.403056\n",
      "Apt_18)    217.923240\n",
      "Apt_17)    216.231011\n",
      "Apt_6)     209.972071\n",
      "Apt_16)    207.663743\n",
      "Apt_12)    206.893698\n",
      "Apt_9)     205.072372\n",
      "Apt_13)    203.496211\n",
      "Apt_7)     199.247150\n",
      "Apt_8)     197.613194\n",
      "Apt_11)    197.528127\n",
      "Apt_15)    197.074889\n",
      "Apt_10)    192.540430\n",
      "Apt_20)    190.609216\n",
      "Apt_3)     188.907822\n",
      "Apt_19)    188.546976\n",
      "Apt_5)     187.358891\n",
      "Apt_14)    185.185183\n",
      "Apt_4)     184.494667\n",
      "Apt_2)     160.467088\n",
      "Name: Electricity_usage, dtype: float64\n"
     ]
    }
   ],
   "source": [
    "usage_per_apartments = df.groupby(\"apartments\")[\"Electricity_usage\"].sum().sort_values(ascending=False)\n",
    "print(usage_per_apartments)"
   ]
  },
  {
   "cell_type": "code",
   "execution_count": 118,
   "id": "5965af7c",
   "metadata": {},
   "outputs": [
    {
     "name": "stdout",
     "output_type": "stream",
     "text": [
      "Index(['date', 'apartments', 'Electricity_usage'], dtype='object')\n"
     ]
    }
   ],
   "source": [
    "print(df.columns)"
   ]
  },
  {
   "cell_type": "code",
   "execution_count": 119,
   "id": "61fb2d19",
   "metadata": {},
   "outputs": [
    {
     "name": "stdout",
     "output_type": "stream",
     "text": [
      "date\n",
      "2021-07-01    19.104638\n",
      "2021-07-02    20.955763\n",
      "2021-07-03    19.444996\n",
      "2021-07-04    19.216791\n",
      "2021-07-05    18.980068\n",
      "Name: Electricity_usage, dtype: float64\n"
     ]
    }
   ],
   "source": [
    "daily_avg = df.groupby(\"date\")[\"Electricity_usage\"].mean()\n",
    "print(daily_avg.head())"
   ]
  },
  {
   "cell_type": "code",
   "execution_count": 125,
   "id": "43b8bbb5",
   "metadata": {},
   "outputs": [],
   "source": [
    "import matplotlib.pyplot as plt \n",
    "import seaborn as sns"
   ]
  },
  {
   "cell_type": "code",
   "execution_count": null,
   "id": "f5700113",
   "metadata": {},
   "outputs": [
    {
     "data": {
      "image/png": "[encoded data removed]",
      "text/plain": [
       "<Figure size 1000x600 with 1 Axes>"
      ]
     },
     "metadata": {},
     "output_type": "display_data"
    }
   ],
   "source": [
    "plt.figure(figsize=(10,6))\n",
    "sns.barplot(x=usage_per_apartments.index,y=usage_per_apartments)\n",
    "plt.xticks(rotation=90)\n",
    "plt.title(\"Total Usage per Apartments \")\n",
    "plt.xlabel(\"Apartments\")\n",
    "plt.ylabel(\"Total KWH\")\n",
    "plt.tight_layout()\n",
    "plt.show()"
   ]
  },
  {
   "cell_type": "code",
   "execution_count": 127,
   "id": "1f9a5313",
   "metadata": {},
   "outputs": [
    {
     "data": {
      "image/png": "[encoded data removed]",
      "text/plain": [
       "<Figure size 1000x600 with 1 Axes>"
      ]
     },
     "metadata": {},
     "output_type": "display_data"
    }
   ],
   "source": [
    "plt.figure(figsize=(10,6))\n",
    "sns.barplot(x=daily_avg.index,y=daily_avg)\n",
    "plt.xticks(rotation=90)\n",
    "plt.title(\"Daily average Usage per Apartments \")\n",
    "plt.xlabel(\"Date\")\n",
    "plt.ylabel(\"Average KWH\")\n",
    "plt.tight_layout()\n",
    "plt.show()"
   ]
  },
  {
   "cell_type": "code",
   "execution_count": null,
   "id": "92098b49",
   "metadata": {},
   "outputs": [
    {
     "name": "stdout",
     "output_type": "stream",
     "text": [
      "          date apartments  Electricity_usage         day  High_usage_flag\n",
      "31  2021-07-02     Apt_4)          29.261391  2021-07-02             True\n",
      "106 2021-07-07    Apt_11)          29.430930  2021-07-07             True\n",
      "113 2021-07-04    Apt_12)          32.316211  2021-07-04             True\n",
      "125 2021-07-06    Apt_13)          30.952278  2021-07-06             True\n",
      "156 2021-07-07    Apt_16)          29.328873  2021-07-07             True\n"
     ]
    }
   ],
   "source": [
    "threshold = df[\"Electricity_usage\"].mean() + 2 * df[\"Electricity_usage\"].std()\n",
    "df[\"High_usage_flag\"] = df[\"Electricity_usage\"] > threshold\n",
    "print(df[df[\"High_usage_flag\"] == True].head())"
   ]
  },
  {
   "cell_type": "code",
   "execution_count": null,
   "id": "2247778a",
   "metadata": {},
   "outputs": [],
   "source": []
  }
 ],
 "metadata": {
  "kernelspec": {
   "display_name": "Python 3",
   "language": "python",
   "name": "python3"
  },
  "language_info": {
   "codemirror_mode": {
    "name": "ipython",
    "version": 3
   },
   "file_extension": ".py",
   "mimetype": "text/x-python",
   "name": "python",
   "nbconvert_exporter": "python",
   "pygments_lexer": "ipython3",
   "version": "3.13.2"
  }
 },
 "nbformat": 4,
 "nbformat_minor": 5
}
